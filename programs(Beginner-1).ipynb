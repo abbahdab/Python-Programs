{
 "cells": [
  {
   "cell_type": "code",
   "execution_count": 8,
   "metadata": {},
   "outputs": [
    {
     "name": "stdout",
     "output_type": "stream",
     "text": [
      "The number 89 is odd\n"
     ]
    }
   ],
   "source": [
    "\"\"\"\"Determining if an integer is even or odd\"\"\"\n",
    "def parity(x):\n",
    "    if ((x % 2) == 0):\n",
    "        print(\"The number \" + str(x) + \" is even\")\n",
    "    else:\n",
    "        print(\"The number \" + str(x) + \" is odd\")       \n",
    "parity(89)"
   ]
  },
  {
   "cell_type": "code",
   "execution_count": 13,
   "metadata": {},
   "outputs": [
    {
     "name": "stdout",
     "output_type": "stream",
     "text": [
      "120\n"
     ]
    }
   ],
   "source": [
    "\"\"\"\"Calculating the factorial of a number\"\"\"\n",
    "def factorial(n):\n",
    "    k = 1\n",
    "    for i in range(1, n+1): \n",
    "        k = k * i  \n",
    "    print(k)\n",
    "factorial(5)"
   ]
  },
  {
   "cell_type": "code",
   "execution_count": 14,
   "metadata": {},
   "outputs": [
    {
     "name": "stdout",
     "output_type": "stream",
     "text": [
      "13\n"
     ]
    }
   ],
   "source": [
    "\"\"\"Finding the nth Fibonacci number\"\"\"\n",
    "def fibonacci(n,m,nth):\n",
    "    temp = ''\n",
    "    first = n\n",
    "    second = m\n",
    "    k = first + second\n",
    "    for i in range(nth-3):\n",
    "        temp = first\n",
    "        first = second\n",
    "        second = k\n",
    "        k = first + second\n",
    "    print(k)\n",
    "        \n",
    "fibonacci(2,3,5)           "
   ]
  },
  {
   "cell_type": "code",
   "execution_count": 15,
   "metadata": {},
   "outputs": [
    {
     "data": {
      "text/plain": [
       "13"
      ]
     },
     "execution_count": 15,
     "metadata": {},
     "output_type": "execute_result"
    }
   ],
   "source": [
    "\"\"\"\"Finding the nth Fibonacci number using recusion\"\"\"\n",
    "def recursive_fibonacci(n,m, nth):\n",
    "    if nth < 2:\n",
    "        return n\n",
    "    return recursive_fibonacci(m, n+m, (nth-1))\n",
    "recursive_fibonacci(2,3,5) "
   ]
  },
  {
   "cell_type": "code",
   "execution_count": 17,
   "metadata": {},
   "outputs": [
    {
     "data": {
      "text/plain": [
       "62.5"
      ]
     },
     "execution_count": 17,
     "metadata": {},
     "output_type": "execute_result"
    }
   ],
   "source": [
    "\"\"\"\"Calculates the product of two numbers without using multiplication\"\"\"\n",
    "def multiplication(n,m):\n",
    "    if n<0 or m<0:\n",
    "        return 0\n",
    "    elif m<1:\n",
    "        return 0\n",
    "    else:\n",
    "        return n + multiplication(n, m-1)\n",
    "multiplication(12.5,5)"
   ]
  },
  {
   "cell_type": "code",
   "execution_count": 20,
   "metadata": {},
   "outputs": [
    {
     "data": {
      "text/plain": [
       "True"
      ]
     },
     "execution_count": 20,
     "metadata": {},
     "output_type": "execute_result"
    }
   ],
   "source": [
    "\"\"\"\"Checks to see if a string is a palindrome\"\"\"\n",
    "def palindrome(s):    \n",
    "    reverse = (s[::-1])  \n",
    "    ignore = '''!()-[]{};:'\"\\,<>./?@#$%^&*_~'''    #referenced geek for geeks for puncuation string\n",
    "    for i in s: \n",
    "        for i in ignore:\n",
    "            s = s.lower()\n",
    "            s = s.replace(' ','')\n",
    "            s = s.replace(i, \"\")\n",
    "            reverse = reverse.lower()\n",
    "            reverse = reverse.replace(' ','')\n",
    "            reverse = reverse.replace(i, \"\")\n",
    "    \n",
    "    if (s == reverse):\n",
    "        return True\n",
    "    else:\n",
    "        return False\n",
    "\n",
    "    print(s) \n",
    "    print(reverse)\n",
    "        \n",
    "palindrome('Red rum, sir, is murder')"
   ]
  },
  {
   "cell_type": "code",
   "execution_count": null,
   "metadata": {},
   "outputs": [],
   "source": []
  }
 ],
 "metadata": {
  "kernelspec": {
   "display_name": "Python 3",
   "language": "python",
   "name": "python3"
  },
  "language_info": {
   "codemirror_mode": {
    "name": "ipython",
    "version": 3
   },
   "file_extension": ".py",
   "mimetype": "text/x-python",
   "name": "python",
   "nbconvert_exporter": "python",
   "pygments_lexer": "ipython3",
   "version": "3.7.4"
  }
 },
 "nbformat": 4,
 "nbformat_minor": 4
}
