{
 "cells": [
  {
   "cell_type": "code",
   "execution_count": 1,
   "metadata": {},
   "outputs": [
    {
     "name": "stdout",
     "output_type": "stream",
     "text": [
      "[5, 3, 2, 1, 1, 0]\n"
     ]
    }
   ],
   "source": [
    "\"\"\"\"Prints n Fibonacci numbers backwards\"\"\" \n",
    "def backwardsFib(n):\n",
    "    list = [0, 1]\n",
    "    temp = ''\n",
    "    first = 0\n",
    "    second = 1\n",
    "    k = first + second\n",
    "    for i in range(n-2):\n",
    "        temp = first\n",
    "        first = second\n",
    "        second = k\n",
    "        list.append(k)\n",
    "        k = first + second\n",
    "    print(list[::-1])     \n",
    "backwardsFib(6)   "
   ]
  },
  {
   "cell_type": "code",
   "execution_count": 4,
   "metadata": {},
   "outputs": [
    {
     "name": "stdout",
     "output_type": "stream",
     "text": [
      "DATA science\n"
     ]
    }
   ],
   "source": [
    "\"\"\"\"\"Capatilizing the first n letters\"\"\"\n",
    "def capitilize(s,n):\n",
    "    v = ''\n",
    "    for i in range(len(s)):\n",
    "        if (i<n):\n",
    "            v += (s[i].upper())\n",
    "            #print(v)\n",
    "        else:\n",
    "            v += s[i]         \n",
    "    print(v)            \n",
    "capitilize('data science', 4)"
   ]
  },
  {
   "cell_type": "code",
   "execution_count": 6,
   "metadata": {},
   "outputs": [
    {
     "name": "stdout",
     "output_type": "stream",
     "text": [
      "{'Paris': 'France', 'Barcelona': 'Spain', 'Tokyo': 'Japan'}\n"
     ]
    }
   ],
   "source": [
    "\"\"\"\"Creating a dictionary out of lists\"\"\"\n",
    "def CreateDictionary(k, v):\n",
    "    if len(v) < len(k):\n",
    "           homemadeDictionary = {k[i]:v[i] for i in range(len(v))}\n",
    "    else:                                                     \n",
    "           homemadeDictionary = {k[i]:v[i] for i in range(len(k))}      \n",
    "    print(homemadeDictionary)\n",
    "\n",
    "CreateDictionary(['Paris','Barcelona','Tokyo'], ['France','Spain', 'Japan', 'India'])"
   ]
  },
  {
   "cell_type": "code",
   "execution_count": 7,
   "metadata": {},
   "outputs": [
    {
     "name": "stdout",
     "output_type": "stream",
     "text": [
      "[1, 4, 11, 13, 17, 23, 32, 90]\n"
     ]
    }
   ],
   "source": [
    "\"\"\"\"Implementing Bubble Sort\"\"\"\n",
    "def BubbleSort(a):\n",
    "    for i in range(len(a)-1,0,-1):\n",
    "        for j in range(i):\n",
    "            if a[j] > a[j+1]:\n",
    "                temp = a[j]\n",
    "                a[j] = a[j+1]\n",
    "                a[j+1] = temp\n",
    "    print(a)\n",
    "BubbleSort([11,32,17,23,90,1,4,13])"
   ]
  },
  {
   "cell_type": "code",
   "execution_count": null,
   "metadata": {},
   "outputs": [],
   "source": []
  }
 ],
 "metadata": {
  "kernelspec": {
   "display_name": "Python 3",
   "language": "python",
   "name": "python3"
  },
  "language_info": {
   "codemirror_mode": {
    "name": "ipython",
    "version": 3
   },
   "file_extension": ".py",
   "mimetype": "text/x-python",
   "name": "python",
   "nbconvert_exporter": "python",
   "pygments_lexer": "ipython3",
   "version": "3.7.4"
  }
 },
 "nbformat": 4,
 "nbformat_minor": 4
}
