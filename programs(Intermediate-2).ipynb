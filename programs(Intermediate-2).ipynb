{
 "cells": [
  {
   "cell_type": "code",
   "execution_count": 1,
   "metadata": {},
   "outputs": [
    {
     "name": "stdout",
     "output_type": "stream",
     "text": [
      "Matrix: \n",
      "   3  25   6\n",
      "   2   5  10\n",
      "  -1   9  -3\n"
     ]
    }
   ],
   "source": [
    "def msum(M,N):\n",
    "    msum = []\n",
    "    add = 0\n",
    "    if len(M) == len(N):\n",
    "        for i in range(len(M)):\n",
    "            msum.append([])\n",
    "            for j in range(len(N[0])):\n",
    "                add = 0\n",
    "                add += M[i][j] + N[i][j]\n",
    "                msum[i].append(add)\n",
    "        #formatting the matrix is from stack overflow, but subtle changes (reference at the bottom)\n",
    "        print('Matrix: '+ '\\n' +'\\n'.join([''.join(['{:4}'.format(item) for item in row]) for row in msum]))        \n",
    "    else:\n",
    "        return 'Matrices must be the same size'\n",
    "msum([[1, 17, 6],[-4, 2, 3],[2, 8, -9]], [[2, 8, 0],[6, 3, 7],[-3, 1, 6]])"
   ]
  },
  {
   "cell_type": "code",
   "execution_count": 2,
   "metadata": {},
   "outputs": [
    {
     "name": "stdout",
     "output_type": "stream",
     "text": [
      "Matrix: \n",
      "   3  25   6\n",
      "   2   5  10\n",
      "  -1   9  -3\n"
     ]
    }
   ],
   "source": [
    "def listCompMsum(M,N):\n",
    "    if len(M) == len(N):\n",
    "        msum = [[M[i][j] + N[i][j] for j in range(len(N[0]))] for i in range(len(N))]  \n",
    "    else:\n",
    "        return 'Matrices must be the same size'\n",
    "    print('Matrix: '+ '\\n' +'\\n'.join([''.join(['{:4}'.format(item) for item in row]) for row in msum]))  \n",
    "listCompMsum([[1, 17, 6],[-4, 2, 3],[2, 8, -9]], [[2, 8, 0],[6, 3, 7],[-3, 1, 6]])"
   ]
  },
  {
   "cell_type": "code",
   "execution_count": 3,
   "metadata": {},
   "outputs": [
    {
     "name": "stdout",
     "output_type": "stream",
     "text": [
      "Matrix: \n",
      "  12  24 -12\n",
      "   0  36  24\n",
      "  48-156 288\n"
     ]
    }
   ],
   "source": [
    "def mscalar(M,c):\n",
    "    multiply = 0\n",
    "    mscalar = []\n",
    "    for i in range(len(M)):\n",
    "        mscalar.append([])\n",
    "        for j in range(len(M[0])):\n",
    "            multiply = 0\n",
    "            multiply += M[i][j] * c\n",
    "            mscalar[i].append(multiply)\n",
    "    #formatting the matrix is from stack overflow, but subtle changes\n",
    "    print('Matrix: '+ '\\n' +'\\n'.join([''.join(['{:4}'.format(item) for item in row]) for row in mscalar]))        \n",
    "mscalar([[1, 2, -1],[0, 3, 2],[4, -13, 24]],12)"
   ]
  },
  {
   "cell_type": "code",
   "execution_count": 4,
   "metadata": {},
   "outputs": [
    {
     "name": "stdout",
     "output_type": "stream",
     "text": [
      "Matrix: \n",
      "  12  24 -12\n",
      "   0  36  24\n",
      "  48-156 288\n"
     ]
    }
   ],
   "source": [
    "def listCompMscalar(M,c):\n",
    "    mscalar = [[M[i][j]*c for j in range(len(M[0]))] for i in range(len(M))]\n",
    "    print('Matrix: '+ '\\n' +'\\n'.join([''.join(['{:4}'.format(item) for item in row]) for row in mscalar]))  \n",
    "listCompMscalar([[1, 2, -1],[0, 3, 2],[4, -13, 24]],12)"
   ]
  },
  {
   "cell_type": "code",
   "execution_count": 5,
   "metadata": {},
   "outputs": [
    {
     "name": "stdout",
     "output_type": "stream",
     "text": [
      "Matrix: \n",
      "   6   1   1\n",
      "   4  -2   5\n",
      "   2   8   7\n",
      "Determinant: -306\n"
     ]
    }
   ],
   "source": [
    "def mdet(M):\n",
    "    \n",
    "    a = M[0][0] * ((M[1][1]*M[2][2])-(M[1][2]*M[2][1]))\n",
    "    b = M[0][1] * ((M[1][0]*M[2][2])-(M[1][2]*M[2][0]))\n",
    "    c = M[0][2] * ((M[1][0]*M[2][1])-(M[1][1]*M[2][0]))\n",
    "    determinant = a - b + c\n",
    "    \n",
    "    #formatting the matrix is from stack overflow, but subtle changes\n",
    "    print('Matrix: '+ '\\n' +'\\n'.join([''.join(['{:4}'.format(item) for item in row]) for row in M]))         \n",
    "    print('Determinant: ' + str(determinant))\n",
    "mdet([[6, 1, 1],\n",
    "         [4, -2, 5],\n",
    "         [2, 8, 7]])"
   ]
  },
  {
   "cell_type": "code",
   "execution_count": 6,
   "metadata": {},
   "outputs": [
    {
     "name": "stdout",
     "output_type": "stream",
     "text": [
      "Matrix M: \n",
      "   2   4\n",
      "   1   0\n",
      "  -3   7\n",
      "Matrix N: \n",
      "  12  -1   1\n",
      "   4   3   9\n",
      "The product of the two matrices are: \n",
      "  40  10  38\n",
      "  12  -1   1\n",
      "  -8  24  60\n"
     ]
    }
   ],
   "source": [
    "def mprod(M, N):\n",
    "    sum = 0\n",
    "    product = []\n",
    " \n",
    "    for i in M:\n",
    "        if len(i) != len(N):\n",
    "            return 'Number of columns for matrix M must be the same number of rows for matrix N'                \n",
    "   \n",
    "    for p in range(len(M)):  #rows of M\n",
    "        product.append([])\n",
    "        for q in range(len(N[0])):  #columns of N\n",
    "            sum = 0\n",
    "            for r in range(len(N)): #Must go through all rows of N\n",
    "                sum += M[p][r] * N[r][q]\n",
    "            product[p].append(sum)\n",
    "    #stack overflow previously sited\n",
    "    print('Matrix M: '+ '\\n' +'\\n'.join([''.join(['{:4}'.format(item) for item in row]) for row in M]))\n",
    "    #stack overflow previously sited\n",
    "    print('Matrix N: '+ '\\n' +'\\n'.join([''.join(['{:4}'.format(item) for item in row]) for row in N]))\n",
    "    print('The product of the two matrices are: '+ '\\n' +'\\n'.join([''.join(['{:4}'.format(item) for item in row]) for row in product]))\n",
    "mprod( [[2, 4],[1, 0],[-3, 7]], [[12, -1, 1],[4, 3, 9,]])"
   ]
  },
  {
   "cell_type": "code",
   "execution_count": 7,
   "metadata": {},
   "outputs": [],
   "source": [
    "#References\n",
    "#https://stackoverflow.com/questions/17870612/printing-a-two-dimensional-array-in-python/36538558   "
   ]
  }
 ],
 "metadata": {
  "kernelspec": {
   "display_name": "Python 3",
   "language": "python",
   "name": "python3"
  },
  "language_info": {
   "codemirror_mode": {
    "name": "ipython",
    "version": 3
   },
   "file_extension": ".py",
   "mimetype": "text/x-python",
   "name": "python",
   "nbconvert_exporter": "python",
   "pygments_lexer": "ipython3",
   "version": "3.7.4"
  }
 },
 "nbformat": 4,
 "nbformat_minor": 4
}
