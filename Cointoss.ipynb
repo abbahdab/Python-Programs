{
 "cells": [
  {
   "cell_type": "code",
   "execution_count": 8,
   "metadata": {},
   "outputs": [
    {
     "name": "stdout",
     "output_type": "stream",
     "text": [
      "10.364\n"
     ]
    }
   ],
   "source": [
    "#Expected number of tosses to get HHT\n",
    "def CoinToss():\n",
    "    import random\n",
    "    pattern = ['H', 'T','H']\n",
    "    count = 0\n",
    "\n",
    "    for i in range(0,1000):\n",
    "        hold = []\n",
    "        while(hold[-len(pattern):] != pattern):  #stops tossing coin when the last three match HTH (pattern)\n",
    "            hold.append(random.choice(['H','T']))\n",
    "            count += 1      #number of tosses\n",
    "    print(count/1000)\n",
    "\n",
    "CoinToss()"
   ]
  },
  {
   "cell_type": "code",
   "execution_count": 6,
   "metadata": {},
   "outputs": [
    {
     "name": "stdout",
     "output_type": "stream",
     "text": [
      "7.959\n"
     ]
    }
   ],
   "source": [
    "#Expected number of tosses to get HTH \n",
    "def CoinToss():\n",
    "    import random\n",
    "    pattern = ['H', 'H','T']\n",
    "    count = 0\n",
    "\n",
    "    for i in range(0,1000):\n",
    "        hold = []\n",
    "        while(hold[-len(pattern):] != pattern):\n",
    "            hold.append(random.choice(['H','T']))\n",
    "            count += 1\n",
    "    print(count/1000)\n",
    "\n",
    "CoinToss()"
   ]
  },
  {
   "cell_type": "code",
   "execution_count": null,
   "metadata": {},
   "outputs": [],
   "source": []
  }
 ],
 "metadata": {
  "kernelspec": {
   "display_name": "Python 3",
   "language": "python",
   "name": "python3"
  },
  "language_info": {
   "codemirror_mode": {
    "name": "ipython",
    "version": 3
   },
   "file_extension": ".py",
   "mimetype": "text/x-python",
   "name": "python",
   "nbconvert_exporter": "python",
   "pygments_lexer": "ipython3",
   "version": "3.7.4"
  }
 },
 "nbformat": 4,
 "nbformat_minor": 4
}
